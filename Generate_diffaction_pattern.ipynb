{
 "cells": [
  {
   "cell_type": "markdown",
   "id": "fdc71938-2cf6-44c0-94c1-889e2b9f8129",
   "metadata": {},
   "source": [
    "## Imports and dependencies \n",
    "The template matching import is optional, as it would give a more realistic placement of the diffraction spots. However, it is unknown how much that matters for the training of the network"
   ]
  },
  {
   "cell_type": "code",
   "execution_count": null,
   "id": "2113de4e-c9b7-4509-b054-3ba1727b822b",
   "metadata": {},
   "outputs": [],
   "source": [
    "#import template_matching\n",
    "%matplotlib qt\n",
    "import numpy as np\n",
    "from tqdm import tqdm\n",
    "import matplotlib.pyplot as plt"
   ]
  },
  {
   "cell_type": "markdown",
   "id": "ea91faa8-be99-42d3-bb13-602e37f91857",
   "metadata": {},
   "source": [
    "In the case of not importing template matching, this function generates random positions for the diffraction spots. "
   ]
  },
  {
   "cell_type": "code",
   "execution_count": null,
   "id": "39d392b4-a793-4cc4-a925-e6974fa39d2b",
   "metadata": {},
   "outputs": [],
   "source": [
    "def create_fake_lib(number_of_spots, size = (256, 256)):\n",
    "    return [(np.random.randint(size[0]),np.random.randint(size[0])) for _ in range(number_of_spots)]"
   ]
  },
  {
   "cell_type": "code",
   "execution_count": null,
   "id": "6810e535-fae2-40cc-adf4-38cc7b3ca1b5",
   "metadata": {},
   "outputs": [],
   "source": [
    "def gauss(x, y, px, py, A, sigma):\n",
    "    return A*np.exp(-(x-px)**2/sigma)*np.exp(-(y-py)**2/sigma)"
   ]
  },
  {
   "cell_type": "code",
   "execution_count": null,
   "id": "0c2c521c-43b2-4738-903b-798560434526",
   "metadata": {},
   "outputs": [],
   "source": [
    "def sim_diff_pat(N, real_diffpat = False):\n",
    "    #N is the number of images and corresponding masks that are generated \n",
    "    #real_diffpat is a boolean parameter determining if the generated diffraction patterns are\n",
    "    #from a simulated set of diffraction patterns or randomly generated coordinates \n",
    "    TM = None\n",
    "    if real_diffpat:\n",
    "        elements = [\"muscovite\", \"quartz\"]\n",
    "        TM = template_matching.Template_matching(elements = elements)\n",
    "        \n",
    "        TM.create_lib(1.0, deny_new = False, minimum_intensity=1E-20, \n",
    "                      max_excitation_error=78E-4, force_new = False, camera_length=129, \n",
    "                      half_radius = 128, reciprocal_radius=1.3072443077127025, \n",
    "                      accelerating_voltage = 80, diffraction_calibration = 0.010212846154005488,\n",
    "                      precession_angle=1.0)\n",
    "\n",
    "    \n",
    "    \n",
    "    images = np.zeros((N,256,256))\n",
    "    masks = np.zeros((N,256,256))\n",
    "    x, y = np.meshgrid(np.arange(256), np.arange(256))\n",
    "\n",
    "    for n in tqdm(range(N)):\n",
    "        if real_diffpat:\n",
    "            scatters_lib = TM.library[elements[np.random.randint(2)]][\"pixel_coords\"]\n",
    "            scatters = scatters_lib[np.random.randint(len(scatters_lib))]\n",
    "        else:\n",
    "            scatters = create_fake_lib(np.random.randint(30))\n",
    "        #Generates an image with random nomlized noise. \n",
    "        images[n] = np.random.normal(1 + 9 * np.random.rand(),1 + 8 * np.random.rand(), (256,256))\n",
    "\n",
    "        #Random numbers used to generate the amplitudes and standard deviation for the diffraction spots\n",
    "        A = np.random.rand(len(scatters))\n",
    "        sigma = np.random.rand(len(scatters))\n",
    "        for i, scatter in enumerate(scatters):\n",
    "            images[n] += gauss(x,y,scatter[0], scatter[1], A[i]*10 + 5,sigma[i]*20 + 3)\n",
    "\n",
    "        #Multipling the image with a gaussian to fade away the edges of the image\n",
    "        images[n] *= gauss(x,y,128,128, 1, 10000 * np.random.rand() + 3000)\n",
    "\n",
    "    \n",
    "        for i, scatter in enumerate(scatters):\n",
    "            masks[n] += gauss(x,y,scatter[0], scatter[1], A[i]*10 + 5,sigma[i]*20 + 3)\n",
    "    \n",
    "        masks[n] = np.where(masks[n] < 3, 0, 1)\n",
    "\n",
    "        \n",
    "    masks = np.array(masks, dtype = np.int8)\n",
    "    #np.save(..., images) # Save the masks and images for training of the network\n",
    "    #np.save(..., masks)\n",
    "    return images, masks\n",
    "    \n"
   ]
  },
  {
   "cell_type": "code",
   "execution_count": null,
   "id": "6bfed8db-ed96-4074-9239-caf428ed0674",
   "metadata": {},
   "outputs": [],
   "source": [
    "images, masks = sim_diff_pat(5, False)"
   ]
  },
  {
   "cell_type": "code",
   "execution_count": null,
   "id": "ce604048-e883-4d9e-9890-77d9ae8d38c7",
   "metadata": {},
   "outputs": [],
   "source": [
    "for i, img in enumerate(images):\n",
    "    plt.figure()\n",
    "    plt.imshow(img)\n",
    "    plt.figure()\n",
    "    plt.imshow(masks[i])\n",
    "    "
   ]
  },
  {
   "cell_type": "code",
   "execution_count": null,
   "id": "8bcded11-4e0d-49d7-bbfb-4e1317e93298",
   "metadata": {},
   "outputs": [],
   "source": []
  }
 ],
 "metadata": {
  "kernelspec": {
   "display_name": "Python 3 (ipykernel)",
   "language": "python",
   "name": "python3"
  },
  "language_info": {
   "codemirror_mode": {
    "name": "ipython",
    "version": 3
   },
   "file_extension": ".py",
   "mimetype": "text/x-python",
   "name": "python",
   "nbconvert_exporter": "python",
   "pygments_lexer": "ipython3",
   "version": "3.11.8"
  }
 },
 "nbformat": 4,
 "nbformat_minor": 5
}
