{
 "cells": [
  {
   "cell_type": "markdown",
   "id": "286c3381-08ec-4296-bb81-8c173d08915c",
   "metadata": {},
   "source": [
    "# Convert MIB file to hspy "
   ]
  },
  {
   "cell_type": "code",
   "execution_count": null,
   "id": "3eba9adc-b9a0-406a-ba10-d2d86427cb17",
   "metadata": {},
   "outputs": [],
   "source": [
    "%matplotlib qt\n",
    "import hyperspy.api as hs #General hyperspy package\n",
    "import pyxem as pxm #Electron diffraction tools based on hyperspy\n",
    "import numpy as np #General numerical and matrix support\n",
    "import matplotlib.pyplot as plt #Plotting tools\n",
    "import matplotlib.colors as mcolors #Some plotting color tools\n",
    "\n",
    "#Import path handling tool\n",
    "from pathlib import Path\n",
    "import json\n",
    "\n",
    "def read_hdr(filename):\n",
    "    \"\"\"\n",
    "    Return the content of a .hdr file as a dictionary\n",
    "    \"\"\"\n",
    "    filename=Path(filename)\n",
    "    if not filename.suffix == '.hdr':\n",
    "        raise ValueError(f'Cannot read hdr file: File \"{str(filename)}\" is not a .hdr file')\n",
    "    hdr = {}\n",
    "    with filename.open('r') as f:\n",
    "        for line in f.readlines():\n",
    "            content = line.split(':', maxsplit=1)\n",
    "            if len(content)>1:\n",
    "                hdr[content[0].strip()] = content[1].strip()\n",
    "    return hdr"
   ]
  },
  {
   "cell_type": "markdown",
   "id": "5f1695d3-af20-4f5f-a234-4cdbabc52f92",
   "metadata": {},
   "source": [
    "## Load raw data"
   ]
  },
  {
   "cell_type": "code",
   "execution_count": null,
   "id": "ff7c3a32-60fd-486b-8ec6-00317f3f54cd",
   "metadata": {},
   "outputs": [],
   "source": [
    "datapath = Path(...)"
   ]
  },
  {
   "cell_type": "code",
   "execution_count": null,
   "id": "b6ae9958-5503-4842-84dc-23b86882c5a3",
   "metadata": {},
   "outputs": [],
   "source": [
    "mib_data = pxm.load_mib(str(datapath))\n",
    "hdr = read_hdr(datapath.with_suffix('.hdr'))"
   ]
  },
  {
   "cell_type": "markdown",
   "id": "99ba4fec-cfe4-4708-9464-eb3fd81bb3eb",
   "metadata": {},
   "source": [
    "## Adjust metadata for the scan"
   ]
  },
  {
   "cell_type": "code",
   "execution_count": null,
   "id": "5a33c8c5-42d0-4da3-92ff-531935703365",
   "metadata": {},
   "outputs": [],
   "source": [
    "data = mib_data.data\n",
    "scan_shape = (256,256) #Adjust to the size of your scan\n",
    "chunksize = 32\n",
    "\n",
    "data = mib_data.data\n",
    "data = data.reshape(scan_shape + mib_data.axes_manager.signal_shape)\n",
    "data = data.rechunk((chunksize,)*4)\n"
   ]
  },
  {
   "cell_type": "code",
   "execution_count": null,
   "id": "f50a8449-cdfa-4ce5-a1d8-e65982da3598",
   "metadata": {},
   "outputs": [],
   "source": [
    "signal = pxm.signals.LazyElectronDiffraction2D(data)\n"
   ]
  },
  {
   "cell_type": "code",
   "execution_count": null,
   "id": "99c772e6-a6aa-45ff-b030-2750d9c6a77d",
   "metadata": {},
   "outputs": [],
   "source": [
    "signal.metadata.General.title= '' #Set the title of the data  - this will appear over all plots\n",
    "\n",
    "\n",
    "#Change these parameters to fit to your scan\n",
    "signal.set_experimental_parameters(beam_energy=80,\n",
    "                                   camera_length=10,\n",
    "                                   scan_rotation=1,\n",
    "                                   rocking_angle=1,\n",
    "                                   rocking_frequency=10,\n",
    "                                   exposure_time=10\n",
    "                                   )\n",
    "\n",
    "signal.set_scan_calibration(8.93) #Real space step size \n"
   ]
  },
  {
   "cell_type": "code",
   "execution_count": null,
   "id": "1e651e03-257e-4aba-a7fa-bfbd99f0f5fa",
   "metadata": {},
   "outputs": [],
   "source": [
    "def wavelength(V, \n",
    "            m0=9.1093837015*1e-31, \n",
    "            e=1.60217662*1e-19, \n",
    "            h=6.62607004*1e-34 , \n",
    "            c=299792458):\n",
    "    \"\"\"\n",
    "    Return the wavelength of an accelerated electron in [m]\n",
    "    \n",
    "    Arguments\n",
    "    ---------\n",
    "    V : float, Acceleration voltage of electrons [kV]\n",
    "    m0 : float, Rest mass of electron [kg]\n",
    "    e : float, Elementary charge of electron [C]\n",
    "    h : float, Planck' constant [m^2 kg/s]\n",
    "    c : float, Speed of light in vacuum [m/s]\n",
    "    \"\"\"\n",
    "    V = V*1E3\n",
    "    return h / np.sqrt( 2 * m0 * e * V * ( 1.0 + ( e*V / ( 2*m0*c**2 ) ) ) )\n",
    "\n",
    "def get_d_spacing(a = 1, b = 1, c = 1, h = 0, k = 0, l = 0, beta = np.pi/2, crystal = \"monoclinic\"):\n",
    "    if crystal == \"cubic\":\n",
    "        return 1/(h**2 / a**2 + k**2/b**2 + l**2/c**2)**0.5\n",
    "    \n",
    "    if crystal == \"monoclinic\":\n",
    "        return np.sin(beta)/(h**2/a**2 + k**2 * np.sin(beta)**2/b**2 + l**2 / c**2 - 2*h*l*np.cos(beta)/a*c)**0.5"
   ]
  },
  {
   "cell_type": "code",
   "execution_count": null,
   "id": "88f1b3b8-5535-4647-9f9e-ce4c37a62220",
   "metadata": {},
   "outputs": [],
   "source": [
    "l = wavelength(80)\n",
    "p = 55E-6\n",
    "c = 10E-2\n",
    "\n",
    "signal.axes_manager[-1].scale = p/(l*c) * 1E-10\n",
    "signal.axes_manager[-2].scale = p/(l*c) * 1E-10\n",
    "\n",
    "signal.axes_manager[-1].units = \"$Å^{-1}$\"\n",
    "signal.axes_manager[-2].units = \"$Å^{-1}$\"\n",
    "\n",
    "signal.axes_manager[-1].Name = \"kx\"\n",
    "signal.axes_manager[-2].Name = \"ky\"\n",
    "print(signal.axes_manager)"
   ]
  },
  {
   "cell_type": "markdown",
   "id": "fcc95c0f-a518-462c-a0c7-6568274d36b2",
   "metadata": {},
   "source": [
    "## Save the signal "
   ]
  },
  {
   "cell_type": "code",
   "execution_count": null,
   "id": "7938e62b-728d-4513-88d5-71f3eda8335a",
   "metadata": {},
   "outputs": [],
   "source": [
    "signal.save(str(datapath.parent) + r\"\\sped.hspy\")"
   ]
  }
 ],
 "metadata": {
  "kernelspec": {
   "display_name": "Python 3 (ipykernel)",
   "language": "python",
   "name": "python3"
  },
  "language_info": {
   "codemirror_mode": {
    "name": "ipython",
    "version": 3
   },
   "file_extension": ".py",
   "mimetype": "text/x-python",
   "name": "python",
   "nbconvert_exporter": "python",
   "pygments_lexer": "ipython3",
   "version": "3.11.8"
  }
 },
 "nbformat": 4,
 "nbformat_minor": 5
}
